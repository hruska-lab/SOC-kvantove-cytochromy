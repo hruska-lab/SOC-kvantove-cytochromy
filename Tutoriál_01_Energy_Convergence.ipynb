{
  "cells": [
    {
      "cell_type": "markdown",
      "metadata": {
        "id": "NLexM1xPegY2"
      },
      "source": [
        "<a href=\"https://colab.research.google.com/github/jamesETsmith/2022_simons_collab_pyscf_workshop/blob/main/demos/01_Energy_Convergence.ipynb\" target=\"_parent\"><img src=\"https://colab.research.google.com/assets/colab-badge.svg\" alt=\"Open In Colab\"/></a>"
      ]
    },
    {
      "cell_type": "markdown",
      "metadata": {
        "id": "21XKQI-pegY6"
      },
      "source": [
        "# Setting up the Jupyter notebook\n",
        "\n",
        "* We need to install a few things before we get started\n",
        "  * [PySCF](https://pyscf.org/) (for the quantum chemistry)\n",
        "  * [py3DMol](https://3dmol.csb.pitt.edu/) for visualizing the molecule\n",
        "  * [plotly](https://plotly.com/python/) and kaleido for plotting"
      ]
    },
    {
      "cell_type": "code",
      "execution_count": null,
      "metadata": {
        "id": "M9JGba30egY6",
        "colab": {
          "base_uri": "https://localhost:8080/"
        },
        "outputId": "108bf9fe-c4ce-4afe-9104-881c80b401b5"
      },
      "outputs": [
        {
          "output_type": "stream",
          "name": "stdout",
          "text": [
            "\u001b[2K     \u001b[90m━━━━━━━━━━━━━━━━━━━━━━━━━━━━━━━━━━━━━━━━\u001b[0m \u001b[32m47.3/47.3 MB\u001b[0m \u001b[31m15.9 MB/s\u001b[0m eta \u001b[36m0:00:00\u001b[0m\n",
            "\u001b[2K     \u001b[90m━━━━━━━━━━━━━━━━━━━━━━━━━━━━━━━━━━━━━━━━\u001b[0m \u001b[32m79.9/79.9 MB\u001b[0m \u001b[31m6.6 MB/s\u001b[0m eta \u001b[36m0:00:00\u001b[0m\n",
            "\u001b[?25h\u001b[31mERROR: pip's dependency resolver does not currently take into account all the packages that are installed. This behaviour is the source of the following dependency conflicts.\n",
            "lida 0.0.10 requires fastapi, which is not installed.\n",
            "lida 0.0.10 requires python-multipart, which is not installed.\n",
            "lida 0.0.10 requires uvicorn, which is not installed.\u001b[0m\u001b[31m\n",
            "\u001b[0m"
          ]
        }
      ],
      "source": [
        "%pip install -q pyscf py3DMol plotly kaleido"
      ]
    },
    {
      "cell_type": "code",
      "execution_count": null,
      "metadata": {
        "id": "r2YySnaQegY7",
        "colab": {
          "base_uri": "https://localhost:8080/"
        },
        "outputId": "eae0fc18-06af-4f31-c31c-fa65831b08a8"
      },
      "outputs": [
        {
          "output_type": "stream",
          "name": "stderr",
          "text": [
            "/usr/local/lib/python3.10/dist-packages/pyscf/dft/libxc.py:771: UserWarning: Since PySCF-2.3, B3LYP (and B3P86) are changed to the VWN-RPA variant, corresponding to the original definition by Stephens et al. (issue 1480) and the same as the B3LYP functional in Gaussian. To restore the VWN5 definition, you can put the setting \"B3LYP_WITH_VWN5 = True\" in pyscf_conf.py\n",
            "  warnings.warn('Since PySCF-2.3, B3LYP (and B3P86) are changed to the VWN-RPA variant, '\n"
          ]
        }
      ],
      "source": [
        "from pyscf import gto, scf, dft, mp, cc, fci\n",
        "import py3Dmol\n",
        "import plotly.express as px"
      ]
    },
    {
      "cell_type": "markdown",
      "metadata": {
        "id": "loilwCjgegY8"
      },
      "source": [
        "# Setting up our system\n",
        "\n",
        "- We initialize the molecular (or solid) PySCF object with coordinates, symmetry, basis, spin, and charge information\n",
        "- We can check that things look right with [py3DMol](https://3dmol.csb.pitt.edu/). Use your mouse to move the molecular around!\n",
        "\n"
      ]
    },
    {
      "cell_type": "code",
      "source": [
        "mol = gto.M(atom=\"new_localmin_1.xyz\")"
      ],
      "metadata": {
        "id": "efdL2UBEe4gz"
      },
      "execution_count": null,
      "outputs": []
    },
    {
      "cell_type": "code",
      "execution_count": null,
      "metadata": {
        "id": "C0sWZNjJegY8"
      },
      "outputs": [],
      "source": [
        "# Experimental geometry of gas-phase water\n",
        "# Ref: https://cccbdb.nist.gov/expgeom2x.asp\n",
        "mol_xyz = \"\"\"O        0.0000   0.0000   0.1173\n",
        "             H        0.0000   0.7572\t -0.4692\n",
        "             H        0.0000  -0.7572\t -0.4692\"\"\"\n",
        "mol = gto.M(\n",
        "    atom=mol_xyz,\n",
        "    basis=\"6-31g\",\n",
        "    verbose=4,\n",
        "    charge=0,      # 0 by default\n",
        "    spin=0,        # 0 by default, defined as (n_up - n_down)\n",
        "    symmetry=True, # False by default\n",
        ")\n"
      ]
    },
    {
      "cell_type": "code",
      "execution_count": null,
      "metadata": {
        "id": "JvYfTFU2egY8",
        "colab": {
          "base_uri": "https://localhost:8080/",
          "height": 417
        },
        "outputId": "511ef4d8-4cdf-4932-97e1-e2dea5942dcd"
      },
      "outputs": [
        {
          "output_type": "display_data",
          "data": {
            "application/3dmoljs_load.v0": "<div id=\"3dmolviewer_16990200160967262\"  style=\"position: relative; width: 400px; height: 400px;\">\n        <p id=\"3dmolwarning_16990200160967262\" style=\"background-color:#ffcccc;color:black\">You appear to be running in JupyterLab (or JavaScript failed to load for some other reason).  You need to install the 3dmol extension: <br>\n        <tt>jupyter labextension install jupyterlab_3dmol</tt></p>\n        </div>\n<script>\n\nvar loadScriptAsync = function(uri){\n  return new Promise((resolve, reject) => {\n    //this is to ignore the existence of requirejs amd\n    var savedexports, savedmodule;\n    if (typeof exports !== 'undefined') savedexports = exports;\n    else exports = {}\n    if (typeof module !== 'undefined') savedmodule = module;\n    else module = {}\n\n    var tag = document.createElement('script');\n    tag.src = uri;\n    tag.async = true;\n    tag.onload = () => {\n        exports = savedexports;\n        module = savedmodule;\n        resolve();\n    };\n  var firstScriptTag = document.getElementsByTagName('script')[0];\n  firstScriptTag.parentNode.insertBefore(tag, firstScriptTag);\n});\n};\n\nif(typeof $3Dmolpromise === 'undefined') {\n$3Dmolpromise = null;\n  $3Dmolpromise = loadScriptAsync('https://cdnjs.cloudflare.com/ajax/libs/3Dmol/2.0.4/3Dmol-min.js');\n}\n\nvar viewer_16990200160967262 = null;\nvar warn = document.getElementById(\"3dmolwarning_16990200160967262\");\nif(warn) {\n    warn.parentNode.removeChild(warn);\n}\n$3Dmolpromise.then(function() {\nviewer_16990200160967262 = $3Dmol.createViewer(document.getElementById(\"3dmolviewer_16990200160967262\"),{backgroundColor:\"white\"});\nviewer_16990200160967262.zoomTo();\n\tviewer_16990200160967262.addModel(\"30\\nXYZ from PySCF\\nC          -0.45100        6.21200        9.57700\\nC          -0.08800        5.11400       10.36500\\nC           1.06900        5.07300       11.12700\\nC           1.87300        6.24400       11.17800\\nC           1.38300        7.43200       10.53100\\nC           0.26700        7.36500        9.70400\\nC           2.22100        8.68800       10.52200\\nC           2.20200        9.43000       11.81300\\nO           1.51900        9.05100       12.79500\\nO           2.87500       10.60600       11.74400\\nN           3.10400        6.25300       11.85400\\nC           3.80400        5.07800       12.20200\\nC           3.84700        4.82600       13.58100\\nC           4.54600        3.74000       14.11300\\nC           5.33100        2.99200       13.24700\\nC           5.26800        3.25000       11.86900\\nC           4.44900        4.18400       11.32000\\nC           4.60700        4.39700        9.60200\\nC           2.97400        5.95500       14.68800\\nH          -1.35300        6.18300        8.97500\\nH          -0.73200        4.24200       10.31100\\nH           1.25400        4.11100       11.59500\\nH           0.00500        8.22900        9.10200\\nH           1.87200        9.44100        9.80900\\nH           3.26200        8.47300       10.26400\\nH           2.78400       11.00700       12.62500\\nH           3.15700        6.99000       12.55600\\nH           4.56300        3.55100       15.18100\\nH           5.88400        2.23200       13.79100\\nH           5.91400        2.57000       11.32300\",\"xyz\");\n\tviewer_16990200160967262.setStyle({\"stick\": {}, \"sphere\": {\"radius\": 0.4}});\n\tviewer_16990200160967262.setBackgroundColor(\"0xeeeeee\");\nviewer_16990200160967262.render();\n});\n</script>",
            "text/html": [
              "<div id=\"3dmolviewer_16990200160967262\"  style=\"position: relative; width: 400px; height: 400px;\">\n",
              "        <p id=\"3dmolwarning_16990200160967262\" style=\"background-color:#ffcccc;color:black\">You appear to be running in JupyterLab (or JavaScript failed to load for some other reason).  You need to install the 3dmol extension: <br>\n",
              "        <tt>jupyter labextension install jupyterlab_3dmol</tt></p>\n",
              "        </div>\n",
              "<script>\n",
              "\n",
              "var loadScriptAsync = function(uri){\n",
              "  return new Promise((resolve, reject) => {\n",
              "    //this is to ignore the existence of requirejs amd\n",
              "    var savedexports, savedmodule;\n",
              "    if (typeof exports !== 'undefined') savedexports = exports;\n",
              "    else exports = {}\n",
              "    if (typeof module !== 'undefined') savedmodule = module;\n",
              "    else module = {}\n",
              "\n",
              "    var tag = document.createElement('script');\n",
              "    tag.src = uri;\n",
              "    tag.async = true;\n",
              "    tag.onload = () => {\n",
              "        exports = savedexports;\n",
              "        module = savedmodule;\n",
              "        resolve();\n",
              "    };\n",
              "  var firstScriptTag = document.getElementsByTagName('script')[0];\n",
              "  firstScriptTag.parentNode.insertBefore(tag, firstScriptTag);\n",
              "});\n",
              "};\n",
              "\n",
              "if(typeof $3Dmolpromise === 'undefined') {\n",
              "$3Dmolpromise = null;\n",
              "  $3Dmolpromise = loadScriptAsync('https://cdnjs.cloudflare.com/ajax/libs/3Dmol/2.0.4/3Dmol-min.js');\n",
              "}\n",
              "\n",
              "var viewer_16990200160967262 = null;\n",
              "var warn = document.getElementById(\"3dmolwarning_16990200160967262\");\n",
              "if(warn) {\n",
              "    warn.parentNode.removeChild(warn);\n",
              "}\n",
              "$3Dmolpromise.then(function() {\n",
              "viewer_16990200160967262 = $3Dmol.createViewer(document.getElementById(\"3dmolviewer_16990200160967262\"),{backgroundColor:\"white\"});\n",
              "viewer_16990200160967262.zoomTo();\n",
              "\tviewer_16990200160967262.addModel(\"30\\nXYZ from PySCF\\nC          -0.45100        6.21200        9.57700\\nC          -0.08800        5.11400       10.36500\\nC           1.06900        5.07300       11.12700\\nC           1.87300        6.24400       11.17800\\nC           1.38300        7.43200       10.53100\\nC           0.26700        7.36500        9.70400\\nC           2.22100        8.68800       10.52200\\nC           2.20200        9.43000       11.81300\\nO           1.51900        9.05100       12.79500\\nO           2.87500       10.60600       11.74400\\nN           3.10400        6.25300       11.85400\\nC           3.80400        5.07800       12.20200\\nC           3.84700        4.82600       13.58100\\nC           4.54600        3.74000       14.11300\\nC           5.33100        2.99200       13.24700\\nC           5.26800        3.25000       11.86900\\nC           4.44900        4.18400       11.32000\\nC           4.60700        4.39700        9.60200\\nC           2.97400        5.95500       14.68800\\nH          -1.35300        6.18300        8.97500\\nH          -0.73200        4.24200       10.31100\\nH           1.25400        4.11100       11.59500\\nH           0.00500        8.22900        9.10200\\nH           1.87200        9.44100        9.80900\\nH           3.26200        8.47300       10.26400\\nH           2.78400       11.00700       12.62500\\nH           3.15700        6.99000       12.55600\\nH           4.56300        3.55100       15.18100\\nH           5.88400        2.23200       13.79100\\nH           5.91400        2.57000       11.32300\",\"xyz\");\n",
              "\tviewer_16990200160967262.setStyle({\"stick\": {}, \"sphere\": {\"radius\": 0.4}});\n",
              "\tviewer_16990200160967262.setBackgroundColor(\"0xeeeeee\");\n",
              "viewer_16990200160967262.render();\n",
              "});\n",
              "</script>"
            ]
          },
          "metadata": {}
        }
      ],
      "source": [
        "xyz_view = py3Dmol.view(width=400,height=400)\n",
        "xyz_view.addModel(mol.tostring(format=\"xyz\"),'xyz')\n",
        "xyz_view.setStyle({'stick':{}, \"sphere\":{\"radius\":0.4}})\n",
        "xyz_view.setBackgroundColor('0xeeeeee')\n",
        "xyz_view.show()"
      ]
    },
    {
      "cell_type": "markdown",
      "metadata": {
        "id": "EY-vitQsegY9"
      },
      "source": [
        "# Short survey of quantum chemistry methods"
      ]
    },
    {
      "cell_type": "markdown",
      "metadata": {
        "id": "uI89kk-UegY9"
      },
      "source": [
        "## [Hartree-Fock](https://en.wikipedia.org/wiki/Hartree%E2%80%93Fock_method)\n",
        "\n",
        "\n",
        "* Hatree-Fock (HF) is the starting point of the most of quantum chemistry\n",
        "* We variationally optimize the orbitals for a single [Slater determinint](https://en.wikipedia.org/wiki/Slater_determinant)\n",
        "* Working in the basis of atom-centered basis function we solve the [Roothaan-Hall](https://en.wikipedia.org/wiki/Roothaan_equations) equations\n",
        "\n",
        "<!-- $\\textbf{FC} = \\textbf{SC} \\epsilon$\n",
        "\n",
        "* $\\textbf{F}$ is the [Fock matrix]()\n",
        "* $\\textbf{C}$ is the molecular orbital coefficient matrix\n",
        "* $\\textbf{S}$ is the atomic orbital overlap matrix\n",
        "* $\\epsilon$ is the vector of molecular orbital energies -->\n",
        "\n",
        "See the PySCF [user guide](https://pyscf.org/user/scf.html) and [examples](https://github.com/pyscf/pyscf/tree/master/examples/scf) for more info.\n",
        "\n"
      ]
    },
    {
      "cell_type": "code",
      "execution_count": null,
      "metadata": {
        "id": "tSe6lgHvegY9",
        "colab": {
          "base_uri": "https://localhost:8080/"
        },
        "outputId": "45f95251-abbc-47dc-b496-4688730fc9ba"
      },
      "outputs": [
        {
          "output_type": "stream",
          "name": "stdout",
          "text": [
            "converged SCF energy = -805.593334721915\n"
          ]
        }
      ],
      "source": [
        "mymf = scf.RHF(mol).run()"
      ]
    },
    {
      "cell_type": "markdown",
      "metadata": {
        "id": "ae3cjxLjegY9"
      },
      "source": [
        "## [Density Functional Theory](https://en.wikipedia.org/wiki/Density_functional_theory)\n",
        "\n",
        "* In Density Functional Theory (DFT), the electron density of a reference noninteracting system is used to represent the density of the true interacting system.\n",
        "* The formulation resembles HF with a different effective Fock potential.\n",
        "* This effective potential depends on the density functional approximation which is chosen by the user.\n",
        "* PySCF gives users the access to a large number of functionals through the [libxc](https://tddft.org/programs/libxc/) and [xcfun](https://github.com/dftlibs/xcfun) libraries.\n",
        "\n",
        "See the PySCF [user guide](https://pyscf.org/user/dft.html) and [examples](https://github.com/pyscf/pyscf/tree/master/examples/dft) for more info."
      ]
    },
    {
      "cell_type": "code",
      "execution_count": null,
      "metadata": {
        "id": "tV6hwatYegY-",
        "colab": {
          "base_uri": "https://localhost:8080/"
        },
        "outputId": "bbe5bbe7-1409-468a-b9b5-6f5e7424d41b"
      },
      "outputs": [
        {
          "output_type": "stream",
          "name": "stdout",
          "text": [
            "SCF not converged.\n",
            "SCF energy = -809.223164514831\n"
          ]
        }
      ],
      "source": [
        "myrks = dft.RKS(mol, xc=\"PBE\").run()"
      ]
    },
    {
      "cell_type": "markdown",
      "metadata": {
        "id": "8Gok_oOqegY-"
      },
      "source": [
        "## [Møller–Plesset perturbation theory](https://en.wikipedia.org/wiki/M%C3%B8ller%E2%80%93Plesset_perturbation_theory)\n",
        "\n",
        "* Perturbative corrections to the Hartree-Fock approximation.\n",
        "\n",
        "See the PySCF [user guide](https://pyscf.org/user/mp.html) and [examples](https://github.com/pyscf/pyscf/tree/master/examples/mp) for more info."
      ]
    },
    {
      "cell_type": "code",
      "execution_count": null,
      "metadata": {
        "id": "USEJ_w8CegY-",
        "colab": {
          "base_uri": "https://localhost:8080/"
        },
        "outputId": "b11bd137-be54-424f-e488-cdae265ed1bd"
      },
      "outputs": [
        {
          "output_type": "stream",
          "name": "stdout",
          "text": [
            "E(MP2) = -806.87282944747  E_corr = -1.27949472555606\n",
            "E(SCS-MP2) = -806.917083079725  E_corr = -1.32374835781074\n"
          ]
        }
      ],
      "source": [
        "mymp2 = mp.MP2(mymf).run()"
      ]
    },
    {
      "cell_type": "markdown",
      "metadata": {
        "id": "jvXWHutlegY-"
      },
      "source": [
        "## [Coupled Cluster](https://en.wikipedia.org/wiki/Coupled_cluster)\n",
        "\n",
        "* Perturbative method that improves on the Hartree-Fock approximation.\n",
        "* Coupled Cluster Singles and Doubles (CCSD) includes single and double excitation on top of the HF wave function.\n",
        "* Accuracy can be improved by including triples perturbatively (CCSD(T)).\n",
        "* Non-variational, but size extensive description of ground states. For excited states, see [EOM-CCSD]().\n",
        "\n",
        "See the PySCF [user guide](https://pyscf.org/user/cc.html) and [examples](https://github.com/pyscf/pyscf/tree/master/examples/cc) for more info."
      ]
    },
    {
      "cell_type": "code",
      "execution_count": null,
      "metadata": {
        "id": "c_U6CtUZegY-",
        "colab": {
          "base_uri": "https://localhost:8080/",
          "height": 330
        },
        "outputId": "10ca7533-f8b5-4b60-eab4-76ffe37cabe1"
      },
      "outputs": [
        {
          "output_type": "error",
          "ename": "KeyboardInterrupt",
          "evalue": "ignored",
          "traceback": [
            "\u001b[0;31m---------------------------------------------------------------------------\u001b[0m",
            "\u001b[0;31mKeyboardInterrupt\u001b[0m                         Traceback (most recent call last)",
            "\u001b[0;32m<ipython-input-8-948204897911>\u001b[0m in \u001b[0;36m<cell line: 1>\u001b[0;34m()\u001b[0m\n\u001b[0;32m----> 1\u001b[0;31m \u001b[0mmycc\u001b[0m \u001b[0;34m=\u001b[0m \u001b[0mcc\u001b[0m\u001b[0;34m.\u001b[0m\u001b[0mCCSD\u001b[0m\u001b[0;34m(\u001b[0m\u001b[0mmymf\u001b[0m\u001b[0;34m)\u001b[0m\u001b[0;34m.\u001b[0m\u001b[0mrun\u001b[0m\u001b[0;34m(\u001b[0m\u001b[0;34m)\u001b[0m\u001b[0;34m\u001b[0m\u001b[0;34m\u001b[0m\u001b[0m\n\u001b[0m",
            "\u001b[0;32m/usr/local/lib/python3.10/dist-packages/pyscf/lib/misc.py\u001b[0m in \u001b[0;36mrun\u001b[0;34m(self, *args, **kwargs)\u001b[0m\n\u001b[1;32m    597\u001b[0m         '''\n\u001b[1;32m    598\u001b[0m         \u001b[0mself\u001b[0m\u001b[0;34m.\u001b[0m\u001b[0mset\u001b[0m\u001b[0;34m(\u001b[0m\u001b[0;34m**\u001b[0m\u001b[0mkwargs\u001b[0m\u001b[0;34m)\u001b[0m\u001b[0;34m\u001b[0m\u001b[0;34m\u001b[0m\u001b[0m\n\u001b[0;32m--> 599\u001b[0;31m         \u001b[0mself\u001b[0m\u001b[0;34m.\u001b[0m\u001b[0mkernel\u001b[0m\u001b[0;34m(\u001b[0m\u001b[0;34m*\u001b[0m\u001b[0margs\u001b[0m\u001b[0;34m)\u001b[0m\u001b[0;34m\u001b[0m\u001b[0;34m\u001b[0m\u001b[0m\n\u001b[0m\u001b[1;32m    600\u001b[0m         \u001b[0;32mreturn\u001b[0m \u001b[0mself\u001b[0m\u001b[0;34m\u001b[0m\u001b[0;34m\u001b[0m\u001b[0m\n\u001b[1;32m    601\u001b[0m \u001b[0;34m\u001b[0m\u001b[0m\n",
            "\u001b[0;32m/usr/local/lib/python3.10/dist-packages/pyscf/cc/ccsd.py\u001b[0m in \u001b[0;36mkernel\u001b[0;34m(self, t1, t2, eris)\u001b[0m\n\u001b[1;32m   1066\u001b[0m \u001b[0;34m\u001b[0m\u001b[0m\n\u001b[1;32m   1067\u001b[0m     \u001b[0;32mdef\u001b[0m \u001b[0mkernel\u001b[0m\u001b[0;34m(\u001b[0m\u001b[0mself\u001b[0m\u001b[0;34m,\u001b[0m \u001b[0mt1\u001b[0m\u001b[0;34m=\u001b[0m\u001b[0;32mNone\u001b[0m\u001b[0;34m,\u001b[0m \u001b[0mt2\u001b[0m\u001b[0;34m=\u001b[0m\u001b[0;32mNone\u001b[0m\u001b[0;34m,\u001b[0m \u001b[0meris\u001b[0m\u001b[0;34m=\u001b[0m\u001b[0;32mNone\u001b[0m\u001b[0;34m)\u001b[0m\u001b[0;34m:\u001b[0m\u001b[0;34m\u001b[0m\u001b[0;34m\u001b[0m\u001b[0m\n\u001b[0;32m-> 1068\u001b[0;31m         \u001b[0;32mreturn\u001b[0m \u001b[0mself\u001b[0m\u001b[0;34m.\u001b[0m\u001b[0mccsd\u001b[0m\u001b[0;34m(\u001b[0m\u001b[0mt1\u001b[0m\u001b[0;34m,\u001b[0m \u001b[0mt2\u001b[0m\u001b[0;34m,\u001b[0m \u001b[0meris\u001b[0m\u001b[0;34m)\u001b[0m\u001b[0;34m\u001b[0m\u001b[0;34m\u001b[0m\u001b[0m\n\u001b[0m\u001b[1;32m   1069\u001b[0m     \u001b[0;32mdef\u001b[0m \u001b[0mccsd\u001b[0m\u001b[0;34m(\u001b[0m\u001b[0mself\u001b[0m\u001b[0;34m,\u001b[0m \u001b[0mt1\u001b[0m\u001b[0;34m=\u001b[0m\u001b[0;32mNone\u001b[0m\u001b[0;34m,\u001b[0m \u001b[0mt2\u001b[0m\u001b[0;34m=\u001b[0m\u001b[0;32mNone\u001b[0m\u001b[0;34m,\u001b[0m \u001b[0meris\u001b[0m\u001b[0;34m=\u001b[0m\u001b[0;32mNone\u001b[0m\u001b[0;34m)\u001b[0m\u001b[0;34m:\u001b[0m\u001b[0;34m\u001b[0m\u001b[0;34m\u001b[0m\u001b[0m\n\u001b[1;32m   1070\u001b[0m         \u001b[0;32massert\u001b[0m \u001b[0;34m(\u001b[0m\u001b[0mself\u001b[0m\u001b[0;34m.\u001b[0m\u001b[0mmo_coeff\u001b[0m \u001b[0;32mis\u001b[0m \u001b[0;32mnot\u001b[0m \u001b[0;32mNone\u001b[0m\u001b[0;34m)\u001b[0m\u001b[0;34m\u001b[0m\u001b[0;34m\u001b[0m\u001b[0m\n",
            "\u001b[0;32m/usr/local/lib/python3.10/dist-packages/pyscf/cc/ccsd.py\u001b[0m in \u001b[0;36mccsd\u001b[0;34m(self, t1, t2, eris)\u001b[0m\n\u001b[1;32m   1081\u001b[0m \u001b[0;34m\u001b[0m\u001b[0m\n\u001b[1;32m   1082\u001b[0m         \u001b[0mself\u001b[0m\u001b[0;34m.\u001b[0m\u001b[0mconverged\u001b[0m\u001b[0;34m,\u001b[0m \u001b[0mself\u001b[0m\u001b[0;34m.\u001b[0m\u001b[0me_corr\u001b[0m\u001b[0;34m,\u001b[0m \u001b[0mself\u001b[0m\u001b[0;34m.\u001b[0m\u001b[0mt1\u001b[0m\u001b[0;34m,\u001b[0m \u001b[0mself\u001b[0m\u001b[0;34m.\u001b[0m\u001b[0mt2\u001b[0m \u001b[0;34m=\u001b[0m\u001b[0;31m \u001b[0m\u001b[0;31m\\\u001b[0m\u001b[0;34m\u001b[0m\u001b[0;34m\u001b[0m\u001b[0m\n\u001b[0;32m-> 1083\u001b[0;31m                 kernel(self, eris, t1, t2, max_cycle=self.max_cycle,\n\u001b[0m\u001b[1;32m   1084\u001b[0m                        \u001b[0mtol\u001b[0m\u001b[0;34m=\u001b[0m\u001b[0mself\u001b[0m\u001b[0;34m.\u001b[0m\u001b[0mconv_tol\u001b[0m\u001b[0;34m,\u001b[0m \u001b[0mtolnormt\u001b[0m\u001b[0;34m=\u001b[0m\u001b[0mself\u001b[0m\u001b[0;34m.\u001b[0m\u001b[0mconv_tol_normt\u001b[0m\u001b[0;34m,\u001b[0m\u001b[0;34m\u001b[0m\u001b[0;34m\u001b[0m\u001b[0m\n\u001b[1;32m   1085\u001b[0m                        verbose=self.verbose, callback=self.callback)\n",
            "\u001b[0;32m/usr/local/lib/python3.10/dist-packages/pyscf/cc/ccsd.py\u001b[0m in \u001b[0;36mkernel\u001b[0;34m(mycc, eris, t1, t2, max_cycle, tol, tolnormt, verbose, callback)\u001b[0m\n\u001b[1;32m     68\u001b[0m     \u001b[0mconv\u001b[0m \u001b[0;34m=\u001b[0m \u001b[0;32mFalse\u001b[0m\u001b[0;34m\u001b[0m\u001b[0;34m\u001b[0m\u001b[0m\n\u001b[1;32m     69\u001b[0m     \u001b[0;32mfor\u001b[0m \u001b[0mistep\u001b[0m \u001b[0;32min\u001b[0m \u001b[0mrange\u001b[0m\u001b[0;34m(\u001b[0m\u001b[0mmax_cycle\u001b[0m\u001b[0;34m)\u001b[0m\u001b[0;34m:\u001b[0m\u001b[0;34m\u001b[0m\u001b[0;34m\u001b[0m\u001b[0m\n\u001b[0;32m---> 70\u001b[0;31m         \u001b[0mt1new\u001b[0m\u001b[0;34m,\u001b[0m \u001b[0mt2new\u001b[0m \u001b[0;34m=\u001b[0m \u001b[0mmycc\u001b[0m\u001b[0;34m.\u001b[0m\u001b[0mupdate_amps\u001b[0m\u001b[0;34m(\u001b[0m\u001b[0mt1\u001b[0m\u001b[0;34m,\u001b[0m \u001b[0mt2\u001b[0m\u001b[0;34m,\u001b[0m \u001b[0meris\u001b[0m\u001b[0;34m)\u001b[0m\u001b[0;34m\u001b[0m\u001b[0;34m\u001b[0m\u001b[0m\n\u001b[0m\u001b[1;32m     71\u001b[0m         \u001b[0;32mif\u001b[0m \u001b[0mcallback\u001b[0m \u001b[0;32mis\u001b[0m \u001b[0;32mnot\u001b[0m \u001b[0;32mNone\u001b[0m\u001b[0;34m:\u001b[0m\u001b[0;34m\u001b[0m\u001b[0;34m\u001b[0m\u001b[0m\n\u001b[1;32m     72\u001b[0m             \u001b[0mcallback\u001b[0m\u001b[0;34m(\u001b[0m\u001b[0mlocals\u001b[0m\u001b[0;34m(\u001b[0m\u001b[0;34m)\u001b[0m\u001b[0;34m)\u001b[0m\u001b[0;34m\u001b[0m\u001b[0;34m\u001b[0m\u001b[0m\n",
            "\u001b[0;32m/usr/local/lib/python3.10/dist-packages/pyscf/cc/ccsd.py\u001b[0m in \u001b[0;36mupdate_amps\u001b[0;34m(mycc, t1, t2, eris)\u001b[0m\n\u001b[1;32m    198\u001b[0m         \u001b[0;32mdef\u001b[0m \u001b[0mupdate_wVooV\u001b[0m\u001b[0;34m(\u001b[0m\u001b[0mq0\u001b[0m\u001b[0;34m,\u001b[0m \u001b[0mq1\u001b[0m\u001b[0;34m,\u001b[0m \u001b[0mtau\u001b[0m\u001b[0;34m)\u001b[0m\u001b[0;34m:\u001b[0m\u001b[0;34m\u001b[0m\u001b[0;34m\u001b[0m\u001b[0m\n\u001b[1;32m    199\u001b[0m             \u001b[0mwVooV\u001b[0m\u001b[0;34m[\u001b[0m\u001b[0;34m:\u001b[0m\u001b[0;34m]\u001b[0m \u001b[0;34m+=\u001b[0m \u001b[0mlib\u001b[0m\u001b[0;34m.\u001b[0m\u001b[0meinsum\u001b[0m\u001b[0;34m(\u001b[0m\u001b[0;34m'bkic,jkca->bija'\u001b[0m\u001b[0;34m,\u001b[0m \u001b[0meris_voov\u001b[0m\u001b[0;34m[\u001b[0m\u001b[0;34m:\u001b[0m\u001b[0;34m,\u001b[0m\u001b[0;34m:\u001b[0m\u001b[0;34m,\u001b[0m\u001b[0;34m:\u001b[0m\u001b[0;34m,\u001b[0m\u001b[0mq0\u001b[0m\u001b[0;34m:\u001b[0m\u001b[0mq1\u001b[0m\u001b[0;34m]\u001b[0m\u001b[0;34m,\u001b[0m \u001b[0mtau\u001b[0m\u001b[0;34m)\u001b[0m\u001b[0;34m\u001b[0m\u001b[0;34m\u001b[0m\u001b[0m\n\u001b[0;32m--> 200\u001b[0;31m         \u001b[0;32mwith\u001b[0m \u001b[0mlib\u001b[0m\u001b[0;34m.\u001b[0m\u001b[0mcall_in_background\u001b[0m\u001b[0;34m(\u001b[0m\u001b[0mupdate_wVooV\u001b[0m\u001b[0;34m,\u001b[0m \u001b[0msync\u001b[0m\u001b[0;34m=\u001b[0m\u001b[0;32mnot\u001b[0m \u001b[0mmycc\u001b[0m\u001b[0;34m.\u001b[0m\u001b[0masync_io\u001b[0m\u001b[0;34m)\u001b[0m \u001b[0;32mas\u001b[0m \u001b[0mupdate_wVooV\u001b[0m\u001b[0;34m:\u001b[0m\u001b[0;34m\u001b[0m\u001b[0;34m\u001b[0m\u001b[0m\n\u001b[0m\u001b[1;32m    201\u001b[0m             \u001b[0;32mfor\u001b[0m \u001b[0mq0\u001b[0m\u001b[0;34m,\u001b[0m \u001b[0mq1\u001b[0m \u001b[0;32min\u001b[0m \u001b[0mlib\u001b[0m\u001b[0;34m.\u001b[0m\u001b[0mprange\u001b[0m\u001b[0;34m(\u001b[0m\u001b[0;36m0\u001b[0m\u001b[0;34m,\u001b[0m \u001b[0mnvir\u001b[0m\u001b[0;34m,\u001b[0m \u001b[0mblksize\u001b[0m\u001b[0;34m)\u001b[0m\u001b[0;34m:\u001b[0m\u001b[0;34m\u001b[0m\u001b[0;34m\u001b[0m\u001b[0m\n\u001b[1;32m    202\u001b[0m                 \u001b[0mtau\u001b[0m  \u001b[0;34m=\u001b[0m \u001b[0mt2\u001b[0m\u001b[0;34m[\u001b[0m\u001b[0;34m:\u001b[0m\u001b[0;34m,\u001b[0m\u001b[0;34m:\u001b[0m\u001b[0;34m,\u001b[0m\u001b[0mq0\u001b[0m\u001b[0;34m:\u001b[0m\u001b[0mq1\u001b[0m\u001b[0;34m]\u001b[0m \u001b[0;34m*\u001b[0m \u001b[0;36m.5\u001b[0m\u001b[0;34m\u001b[0m\u001b[0;34m\u001b[0m\u001b[0m\n",
            "\u001b[0;32m/usr/local/lib/python3.10/dist-packages/pyscf/lib/misc.py\u001b[0m in \u001b[0;36m__exit__\u001b[0;34m(self, type, value, traceback)\u001b[0m\n\u001b[1;32m   1092\u001b[0m                         \u001b[0mhandler\u001b[0m\u001b[0;34m.\u001b[0m\u001b[0mjoin\u001b[0m\u001b[0;34m(\u001b[0m\u001b[0;34m)\u001b[0m\u001b[0;34m\u001b[0m\u001b[0;34m\u001b[0m\u001b[0m\n\u001b[1;32m   1093\u001b[0m                     \u001b[0;32melse\u001b[0m\u001b[0;34m:\u001b[0m\u001b[0;34m\u001b[0m\u001b[0;34m\u001b[0m\u001b[0m\n\u001b[0;32m-> 1094\u001b[0;31m                         \u001b[0mhandler\u001b[0m\u001b[0;34m.\u001b[0m\u001b[0mresult\u001b[0m\u001b[0;34m(\u001b[0m\u001b[0;34m)\u001b[0m\u001b[0;34m\u001b[0m\u001b[0;34m\u001b[0m\u001b[0m\n\u001b[0m\u001b[1;32m   1095\u001b[0m                 \u001b[0;32mexcept\u001b[0m \u001b[0mException\u001b[0m \u001b[0;32mas\u001b[0m \u001b[0me\u001b[0m\u001b[0;34m:\u001b[0m\u001b[0;34m\u001b[0m\u001b[0;34m\u001b[0m\u001b[0m\n\u001b[1;32m   1096\u001b[0m                     \u001b[0;32mraise\u001b[0m \u001b[0mThreadRuntimeError\u001b[0m\u001b[0;34m(\u001b[0m\u001b[0;34m'Error on thread %s:\\n%s'\u001b[0m \u001b[0;34m%\u001b[0m \u001b[0;34m(\u001b[0m\u001b[0mself\u001b[0m\u001b[0;34m,\u001b[0m \u001b[0me\u001b[0m\u001b[0;34m)\u001b[0m\u001b[0;34m)\u001b[0m\u001b[0;34m\u001b[0m\u001b[0;34m\u001b[0m\u001b[0m\n",
            "\u001b[0;32m/usr/lib/python3.10/concurrent/futures/_base.py\u001b[0m in \u001b[0;36mresult\u001b[0;34m(self, timeout)\u001b[0m\n\u001b[1;32m    451\u001b[0m                     \u001b[0;32mreturn\u001b[0m \u001b[0mself\u001b[0m\u001b[0;34m.\u001b[0m\u001b[0m__get_result\u001b[0m\u001b[0;34m(\u001b[0m\u001b[0;34m)\u001b[0m\u001b[0;34m\u001b[0m\u001b[0;34m\u001b[0m\u001b[0m\n\u001b[1;32m    452\u001b[0m \u001b[0;34m\u001b[0m\u001b[0m\n\u001b[0;32m--> 453\u001b[0;31m                 \u001b[0mself\u001b[0m\u001b[0;34m.\u001b[0m\u001b[0m_condition\u001b[0m\u001b[0;34m.\u001b[0m\u001b[0mwait\u001b[0m\u001b[0;34m(\u001b[0m\u001b[0mtimeout\u001b[0m\u001b[0;34m)\u001b[0m\u001b[0;34m\u001b[0m\u001b[0;34m\u001b[0m\u001b[0m\n\u001b[0m\u001b[1;32m    454\u001b[0m \u001b[0;34m\u001b[0m\u001b[0m\n\u001b[1;32m    455\u001b[0m                 \u001b[0;32mif\u001b[0m \u001b[0mself\u001b[0m\u001b[0;34m.\u001b[0m\u001b[0m_state\u001b[0m \u001b[0;32min\u001b[0m \u001b[0;34m[\u001b[0m\u001b[0mCANCELLED\u001b[0m\u001b[0;34m,\u001b[0m \u001b[0mCANCELLED_AND_NOTIFIED\u001b[0m\u001b[0;34m]\u001b[0m\u001b[0;34m:\u001b[0m\u001b[0;34m\u001b[0m\u001b[0;34m\u001b[0m\u001b[0m\n",
            "\u001b[0;32m/usr/lib/python3.10/threading.py\u001b[0m in \u001b[0;36mwait\u001b[0;34m(self, timeout)\u001b[0m\n\u001b[1;32m    318\u001b[0m         \u001b[0;32mtry\u001b[0m\u001b[0;34m:\u001b[0m    \u001b[0;31m# restore state no matter what (e.g., KeyboardInterrupt)\u001b[0m\u001b[0;34m\u001b[0m\u001b[0;34m\u001b[0m\u001b[0m\n\u001b[1;32m    319\u001b[0m             \u001b[0;32mif\u001b[0m \u001b[0mtimeout\u001b[0m \u001b[0;32mis\u001b[0m \u001b[0;32mNone\u001b[0m\u001b[0;34m:\u001b[0m\u001b[0;34m\u001b[0m\u001b[0;34m\u001b[0m\u001b[0m\n\u001b[0;32m--> 320\u001b[0;31m                 \u001b[0mwaiter\u001b[0m\u001b[0;34m.\u001b[0m\u001b[0macquire\u001b[0m\u001b[0;34m(\u001b[0m\u001b[0;34m)\u001b[0m\u001b[0;34m\u001b[0m\u001b[0;34m\u001b[0m\u001b[0m\n\u001b[0m\u001b[1;32m    321\u001b[0m                 \u001b[0mgotit\u001b[0m \u001b[0;34m=\u001b[0m \u001b[0;32mTrue\u001b[0m\u001b[0;34m\u001b[0m\u001b[0;34m\u001b[0m\u001b[0m\n\u001b[1;32m    322\u001b[0m             \u001b[0;32melse\u001b[0m\u001b[0;34m:\u001b[0m\u001b[0;34m\u001b[0m\u001b[0;34m\u001b[0m\u001b[0m\n",
            "\u001b[0;31mKeyboardInterrupt\u001b[0m: "
          ]
        }
      ],
      "source": [
        "mycc = cc.CCSD(mymf).run()"
      ]
    },
    {
      "cell_type": "code",
      "execution_count": null,
      "metadata": {
        "id": "OwVaiCWIegY-"
      },
      "outputs": [],
      "source": [
        "e_ccsd_t = mycc.ccsd_t()"
      ]
    },
    {
      "cell_type": "markdown",
      "metadata": {
        "id": "oBLs-MalegY-"
      },
      "source": [
        "# [Full Configuration Interaction](https://en.wikipedia.org/wiki/Full_configuration_interaction)\n",
        "\n",
        "* Full configuration interaction (FCI) is exact for a given choice of basis set.\n",
        "* Cost grows exponentially with the size of the system.\n",
        "* Also known as exact diagonalization.\n",
        "\n",
        "See the [PySCF examples](https://github.com/pyscf/pyscf/tree/master/examples/fci) for more details."
      ]
    },
    {
      "cell_type": "code",
      "execution_count": null,
      "metadata": {
        "id": "iWyxFbPNegY_"
      },
      "outputs": [],
      "source": [
        "myfci = fci.FCI(mymf)\n",
        "myfci.kernel();"
      ]
    },
    {
      "cell_type": "markdown",
      "metadata": {
        "id": "OtKINWOJegY_"
      },
      "source": [
        "# Analysis\n",
        "\n",
        "Important data is saved to the PySCF method objects, making it easy to analyze and visualize!"
      ]
    },
    {
      "cell_type": "code",
      "execution_count": null,
      "metadata": {
        "id": "_FlL-yMZegY_"
      },
      "outputs": [],
      "source": [
        "# Collect data\n",
        "methods = [\"HF\", \"MP2\", \"CCSD\", \"CCSD(T)\", \"FCI\"]\n",
        "energies = [mymf.e_tot, mymp2.e_tot, mycc.e_tot, mycc.e_tot + e_ccsd_t, myfci.e_tot]\n",
        "\n",
        "# Plotting\n",
        "fig = px.line(x=methods, y=energies, title=\"Jacob's Ladder\", markers=True)\n",
        "fig.update_layout(xaxis_title=\"Method\", yaxis_title=\"Energy (Ha)\")\n",
        "fig.update_traces(marker_size=12)\n",
        "fig.show() # It's interactive!"
      ]
    },
    {
      "cell_type": "code",
      "execution_count": null,
      "metadata": {
        "id": "783pU_JdegY_"
      },
      "outputs": [],
      "source": []
    }
  ],
  "metadata": {
    "colab": {
      "provenance": []
    },
    "kernelspec": {
      "display_name": "Python 3 (ipykernel)",
      "language": "python",
      "name": "python3"
    },
    "language_info": {
      "codemirror_mode": {
        "name": "ipython",
        "version": 3
      },
      "file_extension": ".py",
      "mimetype": "text/x-python",
      "name": "python",
      "nbconvert_exporter": "python",
      "pygments_lexer": "ipython3"
    }
  },
  "nbformat": 4,
  "nbformat_minor": 0
}