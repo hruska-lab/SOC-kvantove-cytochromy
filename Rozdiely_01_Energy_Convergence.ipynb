{
  "cells": [
    {
      "cell_type": "markdown",
      "metadata": {
        "id": "NLexM1xPegY2"
      },
      "source": [
        "<a href=\"https://colab.research.google.com/github/jamesETsmith/2022_simons_collab_pyscf_workshop/blob/main/demos/01_Energy_Convergence.ipynb\" target=\"_parent\"><img src=\"https://colab.research.google.com/assets/colab-badge.svg\" alt=\"Open In Colab\"/></a>"
      ]
    },
    {
      "cell_type": "markdown",
      "metadata": {
        "id": "21XKQI-pegY6"
      },
      "source": [
        "# Setting up the Jupyter notebook\n",
        "\n",
        "* We need to install a few things before we get started\n",
        "  * [PySCF](https://pyscf.org/) (for the quantum chemistry)\n",
        "  * [py3DMol](https://3dmol.csb.pitt.edu/) for visualizing the molecule\n",
        "  * [plotly](https://plotly.com/python/) and kaleido for plotting"
      ]
    },
    {
      "cell_type": "code",
      "execution_count": 81,
      "metadata": {
        "id": "M9JGba30egY6"
      },
      "outputs": [],
      "source": [
        "%pip install -q pyscf py3DMol plotly kaleido"
      ]
    },
    {
      "cell_type": "code",
      "execution_count": 82,
      "metadata": {
        "id": "r2YySnaQegY7"
      },
      "outputs": [],
      "source": [
        "from pyscf import gto, scf, dft, mp, cc, fci\n",
        "import py3Dmol\n",
        "import plotly.express as px"
      ]
    },
    {
      "cell_type": "markdown",
      "metadata": {
        "id": "loilwCjgegY8"
      },
      "source": [
        "# Setting up our system\n",
        "\n",
        "- We initialize the molecular (or solid) PySCF object with coordinates, symmetry, basis, spin, and charge information\n",
        "- We can check that things look right with [py3DMol](https://3dmol.csb.pitt.edu/). Use your mouse to move the molecular around!\n",
        "\n"
      ]
    },
    {
      "cell_type": "code",
      "execution_count": 83,
      "metadata": {
        "id": "efdL2UBEe4gz"
      },
      "outputs": [],
      "source": [
        "mol = gto.M(atom=\"new_localmin_1_H11.xyz\", spin=1)"
      ]
    },
    {
      "cell_type": "code",
      "execution_count": 84,
      "metadata": {
        "colab": {
          "base_uri": "https://localhost:8080/",
          "height": 417
        },
        "id": "JvYfTFU2egY8",
        "outputId": "b8be28e8-bda0-4302-cac1-ee1a33714b8d"
      },
      "outputs": [
        {
          "output_type": "display_data",
          "data": {
            "application/3dmoljs_load.v0": "<div id=\"3dmolviewer_1700144122351391\"  style=\"position: relative; width: 400px; height: 400px;\">\n        <p id=\"3dmolwarning_1700144122351391\" style=\"background-color:#ffcccc;color:black\">You appear to be running in JupyterLab (or JavaScript failed to load for some other reason).  You need to install the 3dmol extension: <br>\n        <tt>jupyter labextension install jupyterlab_3dmol</tt></p>\n        </div>\n<script>\n\nvar loadScriptAsync = function(uri){\n  return new Promise((resolve, reject) => {\n    //this is to ignore the existence of requirejs amd\n    var savedexports, savedmodule;\n    if (typeof exports !== 'undefined') savedexports = exports;\n    else exports = {}\n    if (typeof module !== 'undefined') savedmodule = module;\n    else module = {}\n\n    var tag = document.createElement('script');\n    tag.src = uri;\n    tag.async = true;\n    tag.onload = () => {\n        exports = savedexports;\n        module = savedmodule;\n        resolve();\n    };\n  var firstScriptTag = document.getElementsByTagName('script')[0];\n  firstScriptTag.parentNode.insertBefore(tag, firstScriptTag);\n});\n};\n\nif(typeof $3Dmolpromise === 'undefined') {\n$3Dmolpromise = null;\n  $3Dmolpromise = loadScriptAsync('https://cdnjs.cloudflare.com/ajax/libs/3Dmol/2.0.4/3Dmol-min.js');\n}\n\nvar viewer_1700144122351391 = null;\nvar warn = document.getElementById(\"3dmolwarning_1700144122351391\");\nif(warn) {\n    warn.parentNode.removeChild(warn);\n}\n$3Dmolpromise.then(function() {\nviewer_1700144122351391 = $3Dmol.createViewer(document.getElementById(\"3dmolviewer_1700144122351391\"),{backgroundColor:\"white\"});\nviewer_1700144122351391.zoomTo();\n\tviewer_1700144122351391.addModel(\"29\\nXYZ from PySCF\\nC          -0.45100        6.21200        9.57700\\nC          -0.08800        5.11400       10.36500\\nC           1.06900        5.07300       11.12700\\nC           1.87300        6.24400       11.17800\\nC           1.38300        7.43200       10.53100\\nC           0.26700        7.36500        9.70400\\nC           2.22100        8.68800       10.52200\\nC           2.20200        9.43000       11.81300\\nO           1.51900        9.05100       12.79500\\nO           2.87500       10.60600       11.74400\\nN           3.10400        6.25300       11.85400\\nC           3.80400        5.07800       12.20200\\nC           3.84700        4.82600       13.58100\\nC           4.54600        3.74000       14.11300\\nC           5.33100        2.99200       13.24700\\nC           5.26800        3.25000       11.86900\\nC           4.44900        4.18400       11.32000\\nC           4.60700        4.39700        9.60200\\nC           2.97400        5.95500       14.68800\\nH          -1.35300        6.18300        8.97500\\nH          -0.73200        4.24200       10.31100\\nH           1.25400        4.11100       11.59500\\nH           0.00500        8.22900        9.10200\\nH           1.87200        9.44100        9.80900\\nH           3.26200        8.47300       10.26400\\nH           2.78400       11.00700       12.62500\\nH           3.15700        6.99000       12.55600\\nH           4.56300        3.55100       15.18100\\nH           5.88400        2.23200       13.79100\",\"xyz\");\n\tviewer_1700144122351391.setStyle({\"stick\": {}, \"sphere\": {\"radius\": 0.4}});\n\tviewer_1700144122351391.setBackgroundColor(\"0xeeeeee\");\nviewer_1700144122351391.render();\n});\n</script>",
            "text/html": [
              "<div id=\"3dmolviewer_1700144122351391\"  style=\"position: relative; width: 400px; height: 400px;\">\n",
              "        <p id=\"3dmolwarning_1700144122351391\" style=\"background-color:#ffcccc;color:black\">You appear to be running in JupyterLab (or JavaScript failed to load for some other reason).  You need to install the 3dmol extension: <br>\n",
              "        <tt>jupyter labextension install jupyterlab_3dmol</tt></p>\n",
              "        </div>\n",
              "<script>\n",
              "\n",
              "var loadScriptAsync = function(uri){\n",
              "  return new Promise((resolve, reject) => {\n",
              "    //this is to ignore the existence of requirejs amd\n",
              "    var savedexports, savedmodule;\n",
              "    if (typeof exports !== 'undefined') savedexports = exports;\n",
              "    else exports = {}\n",
              "    if (typeof module !== 'undefined') savedmodule = module;\n",
              "    else module = {}\n",
              "\n",
              "    var tag = document.createElement('script');\n",
              "    tag.src = uri;\n",
              "    tag.async = true;\n",
              "    tag.onload = () => {\n",
              "        exports = savedexports;\n",
              "        module = savedmodule;\n",
              "        resolve();\n",
              "    };\n",
              "  var firstScriptTag = document.getElementsByTagName('script')[0];\n",
              "  firstScriptTag.parentNode.insertBefore(tag, firstScriptTag);\n",
              "});\n",
              "};\n",
              "\n",
              "if(typeof $3Dmolpromise === 'undefined') {\n",
              "$3Dmolpromise = null;\n",
              "  $3Dmolpromise = loadScriptAsync('https://cdnjs.cloudflare.com/ajax/libs/3Dmol/2.0.4/3Dmol-min.js');\n",
              "}\n",
              "\n",
              "var viewer_1700144122351391 = null;\n",
              "var warn = document.getElementById(\"3dmolwarning_1700144122351391\");\n",
              "if(warn) {\n",
              "    warn.parentNode.removeChild(warn);\n",
              "}\n",
              "$3Dmolpromise.then(function() {\n",
              "viewer_1700144122351391 = $3Dmol.createViewer(document.getElementById(\"3dmolviewer_1700144122351391\"),{backgroundColor:\"white\"});\n",
              "viewer_1700144122351391.zoomTo();\n",
              "\tviewer_1700144122351391.addModel(\"29\\nXYZ from PySCF\\nC          -0.45100        6.21200        9.57700\\nC          -0.08800        5.11400       10.36500\\nC           1.06900        5.07300       11.12700\\nC           1.87300        6.24400       11.17800\\nC           1.38300        7.43200       10.53100\\nC           0.26700        7.36500        9.70400\\nC           2.22100        8.68800       10.52200\\nC           2.20200        9.43000       11.81300\\nO           1.51900        9.05100       12.79500\\nO           2.87500       10.60600       11.74400\\nN           3.10400        6.25300       11.85400\\nC           3.80400        5.07800       12.20200\\nC           3.84700        4.82600       13.58100\\nC           4.54600        3.74000       14.11300\\nC           5.33100        2.99200       13.24700\\nC           5.26800        3.25000       11.86900\\nC           4.44900        4.18400       11.32000\\nC           4.60700        4.39700        9.60200\\nC           2.97400        5.95500       14.68800\\nH          -1.35300        6.18300        8.97500\\nH          -0.73200        4.24200       10.31100\\nH           1.25400        4.11100       11.59500\\nH           0.00500        8.22900        9.10200\\nH           1.87200        9.44100        9.80900\\nH           3.26200        8.47300       10.26400\\nH           2.78400       11.00700       12.62500\\nH           3.15700        6.99000       12.55600\\nH           4.56300        3.55100       15.18100\\nH           5.88400        2.23200       13.79100\",\"xyz\");\n",
              "\tviewer_1700144122351391.setStyle({\"stick\": {}, \"sphere\": {\"radius\": 0.4}});\n",
              "\tviewer_1700144122351391.setBackgroundColor(\"0xeeeeee\");\n",
              "viewer_1700144122351391.render();\n",
              "});\n",
              "</script>"
            ]
          },
          "metadata": {}
        }
      ],
      "source": [
        "xyz_view = py3Dmol.view(width=400,height=400)\n",
        "xyz_view.addModel(mol.tostring(format=\"xyz\"),'xyz')\n",
        "xyz_view.setStyle({'stick':{}, \"sphere\":{\"radius\":0.4}})\n",
        "xyz_view.setBackgroundColor('0xeeeeee')\n",
        "xyz_view.show()"
      ]
    },
    {
      "cell_type": "markdown",
      "metadata": {
        "id": "EY-vitQsegY9"
      },
      "source": [
        "# Short survey of quantum chemistry methods"
      ]
    },
    {
      "cell_type": "markdown",
      "metadata": {
        "id": "uI89kk-UegY9"
      },
      "source": [
        "## [Hartree-Fock](https://en.wikipedia.org/wiki/Hartree%E2%80%93Fock_method)\n",
        "\n",
        "\n",
        "* Hatree-Fock (HF) is the starting point of the most of quantum chemistry\n",
        "* We variationally optimize the orbitals for a single [Slater determinint](https://en.wikipedia.org/wiki/Slater_determinant)\n",
        "* Working in the basis of atom-centered basis function we solve the [Roothaan-Hall](https://en.wikipedia.org/wiki/Roothaan_equations) equations\n",
        "\n",
        "<!-- $\\textbf{FC} = \\textbf{SC} \\epsilon$\n",
        "\n",
        "* $\\textbf{F}$ is the [Fock matrix]()\n",
        "* $\\textbf{C}$ is the molecular orbital coefficient matrix\n",
        "* $\\textbf{S}$ is the atomic orbital overlap matrix\n",
        "* $\\epsilon$ is the vector of molecular orbital energies -->\n",
        "\n",
        "See the PySCF [user guide](https://pyscf.org/user/scf.html) and [examples](https://github.com/pyscf/pyscf/tree/master/examples/scf) for more info.\n",
        "\n"
      ]
    },
    {
      "cell_type": "code",
      "execution_count": 85,
      "metadata": {
        "colab": {
          "base_uri": "https://localhost:8080/"
        },
        "id": "tSe6lgHvegY9",
        "outputId": "f438c8e4-ead2-4ae0-c362-4b85f7433cb1"
      },
      "outputs": [
        {
          "output_type": "stream",
          "name": "stdout",
          "text": [
            "SCF not converged.\n",
            "SCF energy = -805.03288949732\n"
          ]
        }
      ],
      "source": [
        "mymf = scf.RHF(mol).run()\n",
        "x = mymf.e_tot"
      ]
    },
    {
      "cell_type": "code",
      "execution_count": 86,
      "metadata": {
        "colab": {
          "base_uri": "https://localhost:8080/"
        },
        "id": "7GAKsSN28mC1",
        "outputId": "1fedd91c-398c-48d7-bc81-9ef7e897e744"
      },
      "outputs": [
        {
          "output_type": "stream",
          "name": "stdout",
          "text": [
            "-0.560445224595469\n"
          ]
        }
      ],
      "source": [
        "rozdiel_HartreeFock = -805.593334721915 - x\n",
        "print(rozdiel_HartreeFock)"
      ]
    },
    {
      "cell_type": "markdown",
      "metadata": {
        "id": "ae3cjxLjegY9"
      },
      "source": [
        "## [Density Functional Theory](https://en.wikipedia.org/wiki/Density_functional_theory)\n",
        "\n",
        "* In Density Functional Theory (DFT), the electron density of a reference noninteracting system is used to represent the density of the true interacting system.\n",
        "* The formulation resembles HF with a different effective Fock potential.\n",
        "* This effective potential depends on the density functional approximation which is chosen by the user.\n",
        "* PySCF gives users the access to a large number of functionals through the [libxc](https://tddft.org/programs/libxc/) and [xcfun](https://github.com/dftlibs/xcfun) libraries.\n",
        "\n",
        "See the PySCF [user guide](https://pyscf.org/user/dft.html) and [examples](https://github.com/pyscf/pyscf/tree/master/examples/dft) for more info."
      ]
    },
    {
      "cell_type": "code",
      "execution_count": 87,
      "metadata": {
        "colab": {
          "base_uri": "https://localhost:8080/"
        },
        "id": "tV6hwatYegY-",
        "outputId": "0375fec9-8753-4c5a-9e2e-0779a2a65bd5"
      },
      "outputs": [
        {
          "output_type": "stream",
          "name": "stdout",
          "text": [
            "SCF not converged.\n",
            "SCF energy = -808.815447937281\n"
          ]
        }
      ],
      "source": [
        "myrks = dft.RKS(mol, xc=\"PBE\").run()\n",
        "y = myrks.e_tot"
      ]
    },
    {
      "cell_type": "code",
      "execution_count": 88,
      "metadata": {
        "id": "GeLPLpKX8ax1",
        "colab": {
          "base_uri": "https://localhost:8080/"
        },
        "outputId": "fdc29ba5-0625-4087-bfdd-ee5378ee9cb3"
      },
      "outputs": [
        {
          "output_type": "stream",
          "name": "stdout",
          "text": [
            "-0.407716577549877\n"
          ]
        }
      ],
      "source": [
        "rozdiel_DFT = -809.223164514831 - y\n",
        "print(rozdiel_DFT)"
      ]
    },
    {
      "cell_type": "markdown",
      "metadata": {
        "id": "8Gok_oOqegY-"
      },
      "source": [
        "## [Møller–Plesset perturbation theory](https://en.wikipedia.org/wiki/M%C3%B8ller%E2%80%93Plesset_perturbation_theory)\n",
        "\n",
        "* Perturbative corrections to the Hartree-Fock approximation.\n",
        "\n",
        "See the PySCF [user guide](https://pyscf.org/user/mp.html) and [examples](https://github.com/pyscf/pyscf/tree/master/examples/mp) for more info."
      ]
    },
    {
      "cell_type": "code",
      "execution_count": 89,
      "metadata": {
        "id": "USEJ_w8CegY-",
        "colab": {
          "base_uri": "https://localhost:8080/"
        },
        "outputId": "2d42d518-b766-4c32-a2d9-0e52ff8d9886"
      },
      "outputs": [
        {
          "output_type": "stream",
          "name": "stdout",
          "text": [
            "\n",
            "WARN: RMP2 method does not support ROHF method. ROHF object is converted to UHF object and UMP2 method is called.\n",
            "\n",
            "E(UMP2) = -806.081207518703  E_corr = -1.04831802138369\n",
            "E(SCS-UMP2) = -806.097245724648  E_corr = -1.06435622732839\n"
          ]
        }
      ],
      "source": [
        "mymp2 = mp.MP2(mymf).run()\n",
        "z = mymp2.e_tot"
      ]
    },
    {
      "cell_type": "code",
      "execution_count": 90,
      "metadata": {
        "id": "YNaby4Lm8O_d",
        "colab": {
          "base_uri": "https://localhost:8080/"
        },
        "outputId": "f70f31e3-55ef-49e7-da4a-e3acd05318b2"
      },
      "outputs": [
        {
          "output_type": "stream",
          "name": "stdout",
          "text": [
            "-0.7916219287668582\n"
          ]
        }
      ],
      "source": [
        "rozdiel_MøllerPlesset = -806.87282944747 - z\n",
        "print(rozdiel_MøllerPlesset)"
      ]
    }
  ],
  "metadata": {
    "colab": {
      "provenance": []
    },
    "kernelspec": {
      "display_name": "Python 3 (ipykernel)",
      "language": "python",
      "name": "python3"
    },
    "language_info": {
      "codemirror_mode": {
        "name": "ipython",
        "version": 3
      },
      "file_extension": ".py",
      "mimetype": "text/x-python",
      "name": "python",
      "nbconvert_exporter": "python",
      "pygments_lexer": "ipython3"
    }
  },
  "nbformat": 4,
  "nbformat_minor": 0
}